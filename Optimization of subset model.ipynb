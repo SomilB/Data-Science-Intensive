{
 "cells": [
  {
   "cell_type": "code",
   "execution_count": null,
   "metadata": {
    "collapsed": true
   },
   "outputs": [],
   "source": []
  },
  {
   "cell_type": "code",
   "execution_count": null,
   "metadata": {
    "collapsed": true
   },
   "outputs": [],
   "source": []
  },
  {
   "cell_type": "code",
   "execution_count": 1,
   "metadata": {
    "collapsed": false
   },
   "outputs": [],
   "source": [
    "import pandas as pd\n",
    "import numpy as np\n",
    "import math\n",
    "from sklearn.cross_validation import train_test_split\n",
    "import matplotlib\n",
    "%matplotlib inline\n",
    "import matplotlib.pyplot as plt"
   ]
  },
  {
   "cell_type": "code",
   "execution_count": 2,
   "metadata": {
    "collapsed": false
   },
   "outputs": [],
   "source": [
    "ratings = pd.DataFrame.from_csv('ratings.csv',index_col=None)\n",
    "movies = pd.DataFrame.from_csv('movies.csv',index_col='movieId')\n",
    "ratings.rating = ratings.rating.astype('float16')\n",
    "ratings.userId = ratings.userId.astype('int32')\n",
    "ratings.movieId = ratings.movieId.astype('int32')"
   ]
  },
  {
   "cell_type": "code",
   "execution_count": 3,
   "metadata": {
    "collapsed": false,
    "scrolled": false
   },
   "outputs": [
    {
     "name": "stderr",
     "output_type": "stream",
     "text": [
      "C:\\Users\\Somil\\Anaconda3\\lib\\site-packages\\ipykernel\\__main__.py:5: SettingWithCopyWarning: \n",
      "A value is trying to be set on a copy of a slice from a DataFrame.\n",
      "Try using .loc[row_indexer,col_indexer] = value instead\n",
      "\n",
      "See the caveats in the documentation: http://pandas.pydata.org/pandas-docs/stable/indexing.html#indexing-view-versus-copy\n"
     ]
    },
    {
     "data": {
      "text/plain": [
       "(64012, 3)"
      ]
     },
     "execution_count": 3,
     "metadata": {},
     "output_type": "execute_result"
    }
   ],
   "source": [
    "#Step 1: Remove movies with less ratings than threshold\n",
    "r=ratings\n",
    "r['movie_freq'] = r.groupby('movieId')['movieId'].transform('count')\n",
    "r = r[r.movie_freq>=25]\n",
    "r['user_freq'] = r.groupby('userId')['userId'].transform('count')\n",
    "r = r[r.user_freq>=20]\n",
    "r = r[['userId','movieId','rating']]\n",
    "\n",
    "r.shape"
   ]
  },
  {
   "cell_type": "code",
   "execution_count": 4,
   "metadata": {
    "collapsed": false
   },
   "outputs": [
    {
     "data": {
      "text/html": [
       "<div>\n",
       "<table border=\"1\" class=\"dataframe\">\n",
       "  <thead>\n",
       "    <tr>\n",
       "      <th></th>\n",
       "      <th></th>\n",
       "      <th colspan=\"5\" halign=\"left\">% Reduction in RMSE</th>\n",
       "    </tr>\n",
       "    <tr>\n",
       "      <th></th>\n",
       "      <th>Split</th>\n",
       "      <th>1</th>\n",
       "      <th>2</th>\n",
       "      <th>3</th>\n",
       "      <th>4</th>\n",
       "      <th>5</th>\n",
       "    </tr>\n",
       "    <tr>\n",
       "      <th>Features</th>\n",
       "      <th>Reg. Parameter</th>\n",
       "      <th></th>\n",
       "      <th></th>\n",
       "      <th></th>\n",
       "      <th></th>\n",
       "      <th></th>\n",
       "    </tr>\n",
       "  </thead>\n",
       "  <tbody>\n",
       "    <tr>\n",
       "      <th rowspan=\"5\" valign=\"top\">100</th>\n",
       "      <th>8</th>\n",
       "      <td>6.838836</td>\n",
       "      <td>7.022563</td>\n",
       "      <td>7.217950</td>\n",
       "      <td>7.328828</td>\n",
       "      <td>7.178802</td>\n",
       "    </tr>\n",
       "    <tr>\n",
       "      <th>9</th>\n",
       "      <td>6.953802</td>\n",
       "      <td>7.118341</td>\n",
       "      <td>7.310323</td>\n",
       "      <td>7.427457</td>\n",
       "      <td>7.254374</td>\n",
       "    </tr>\n",
       "    <tr>\n",
       "      <th>10</th>\n",
       "      <td>6.999422</td>\n",
       "      <td>7.149232</td>\n",
       "      <td>7.335751</td>\n",
       "      <td>7.459335</td>\n",
       "      <td>7.258263</td>\n",
       "    </tr>\n",
       "    <tr>\n",
       "      <th>11</th>\n",
       "      <td>6.974733</td>\n",
       "      <td>7.110964</td>\n",
       "      <td>7.291888</td>\n",
       "      <td>7.426106</td>\n",
       "      <td>7.193998</td>\n",
       "    </tr>\n",
       "    <tr>\n",
       "      <th>12</th>\n",
       "      <td>6.880414</td>\n",
       "      <td>7.009122</td>\n",
       "      <td>7.184757</td>\n",
       "      <td>7.326948</td>\n",
       "      <td>7.069606</td>\n",
       "    </tr>\n",
       "    <tr>\n",
       "      <th rowspan=\"5\" valign=\"top\">150</th>\n",
       "      <th>8</th>\n",
       "      <td>7.123414</td>\n",
       "      <td>7.169282</td>\n",
       "      <td>7.408290</td>\n",
       "      <td>7.755142</td>\n",
       "      <td>7.127810</td>\n",
       "    </tr>\n",
       "    <tr>\n",
       "      <th>9</th>\n",
       "      <td>7.187129</td>\n",
       "      <td>7.239402</td>\n",
       "      <td>7.460552</td>\n",
       "      <td>7.796579</td>\n",
       "      <td>7.205598</td>\n",
       "    </tr>\n",
       "    <tr>\n",
       "      <th>10</th>\n",
       "      <td>7.179574</td>\n",
       "      <td>7.232139</td>\n",
       "      <td>7.444445</td>\n",
       "      <td>7.752020</td>\n",
       "      <td>7.211728</td>\n",
       "    </tr>\n",
       "    <tr>\n",
       "      <th>11</th>\n",
       "      <td>7.103396</td>\n",
       "      <td>7.157833</td>\n",
       "      <td>7.363865</td>\n",
       "      <td>7.642162</td>\n",
       "      <td>7.146729</td>\n",
       "    </tr>\n",
       "    <tr>\n",
       "      <th>12</th>\n",
       "      <td>6.970637</td>\n",
       "      <td>7.027834</td>\n",
       "      <td>7.230131</td>\n",
       "      <td>7.477122</td>\n",
       "      <td>7.022718</td>\n",
       "    </tr>\n",
       "    <tr>\n",
       "      <th rowspan=\"5\" valign=\"top\">200</th>\n",
       "      <th>8</th>\n",
       "      <td>7.218333</td>\n",
       "      <td>7.237693</td>\n",
       "      <td>7.387787</td>\n",
       "      <td>7.728607</td>\n",
       "      <td>7.301649</td>\n",
       "    </tr>\n",
       "    <tr>\n",
       "      <th>9</th>\n",
       "      <td>7.260933</td>\n",
       "      <td>7.277232</td>\n",
       "      <td>7.432688</td>\n",
       "      <td>7.761740</td>\n",
       "      <td>7.341838</td>\n",
       "    </tr>\n",
       "    <tr>\n",
       "      <th>10</th>\n",
       "      <td>7.229142</td>\n",
       "      <td>7.248402</td>\n",
       "      <td>7.409523</td>\n",
       "      <td>7.718347</td>\n",
       "      <td>7.306481</td>\n",
       "    </tr>\n",
       "    <tr>\n",
       "      <th>11</th>\n",
       "      <td>7.133463</td>\n",
       "      <td>7.160634</td>\n",
       "      <td>7.326077</td>\n",
       "      <td>7.612654</td>\n",
       "      <td>7.208397</td>\n",
       "    </tr>\n",
       "    <tr>\n",
       "      <th>12</th>\n",
       "      <td>6.987169</td>\n",
       "      <td>7.025419</td>\n",
       "      <td>7.193226</td>\n",
       "      <td>7.457448</td>\n",
       "      <td>7.061680</td>\n",
       "    </tr>\n",
       "    <tr>\n",
       "      <th rowspan=\"5\" valign=\"top\">250</th>\n",
       "      <th>8</th>\n",
       "      <td>6.424226</td>\n",
       "      <td>6.619806</td>\n",
       "      <td>6.818473</td>\n",
       "      <td>6.983822</td>\n",
       "      <td>6.735633</td>\n",
       "    </tr>\n",
       "    <tr>\n",
       "      <th>9</th>\n",
       "      <td>7.124571</td>\n",
       "      <td>7.237100</td>\n",
       "      <td>7.455205</td>\n",
       "      <td>7.681941</td>\n",
       "      <td>7.355554</td>\n",
       "    </tr>\n",
       "    <tr>\n",
       "      <th>10</th>\n",
       "      <td>7.143186</td>\n",
       "      <td>7.235256</td>\n",
       "      <td>7.453898</td>\n",
       "      <td>7.684728</td>\n",
       "      <td>7.347432</td>\n",
       "    </tr>\n",
       "    <tr>\n",
       "      <th>11</th>\n",
       "      <td>7.072379</td>\n",
       "      <td>7.152048</td>\n",
       "      <td>7.368654</td>\n",
       "      <td>7.594988</td>\n",
       "      <td>7.251089</td>\n",
       "    </tr>\n",
       "    <tr>\n",
       "      <th>12</th>\n",
       "      <td>6.939363</td>\n",
       "      <td>7.013814</td>\n",
       "      <td>7.226049</td>\n",
       "      <td>7.442449</td>\n",
       "      <td>7.095814</td>\n",
       "    </tr>\n",
       "    <tr>\n",
       "      <th rowspan=\"5\" valign=\"top\">300</th>\n",
       "      <th>8</th>\n",
       "      <td>5.327065</td>\n",
       "      <td>5.368901</td>\n",
       "      <td>6.923758</td>\n",
       "      <td>7.153726</td>\n",
       "      <td>6.807255</td>\n",
       "    </tr>\n",
       "    <tr>\n",
       "      <th>9</th>\n",
       "      <td>7.153082</td>\n",
       "      <td>7.215864</td>\n",
       "      <td>7.510615</td>\n",
       "      <td>7.747156</td>\n",
       "      <td>7.370147</td>\n",
       "    </tr>\n",
       "    <tr>\n",
       "      <th>10</th>\n",
       "      <td>7.157303</td>\n",
       "      <td>7.218220</td>\n",
       "      <td>7.492650</td>\n",
       "      <td>7.733518</td>\n",
       "      <td>7.355667</td>\n",
       "    </tr>\n",
       "    <tr>\n",
       "      <th>11</th>\n",
       "      <td>7.076038</td>\n",
       "      <td>7.138604</td>\n",
       "      <td>7.394120</td>\n",
       "      <td>7.630078</td>\n",
       "      <td>7.253728</td>\n",
       "    </tr>\n",
       "    <tr>\n",
       "      <th>12</th>\n",
       "      <td>6.936952</td>\n",
       "      <td>7.004194</td>\n",
       "      <td>7.246642</td>\n",
       "      <td>7.467038</td>\n",
       "      <td>7.094273</td>\n",
       "    </tr>\n",
       "  </tbody>\n",
       "</table>\n",
       "</div>"
      ],
      "text/plain": [
       "                        % Reduction in RMSE                                \\\n",
       "Split                                     1         2         3         4   \n",
       "Features Reg. Parameter                                                     \n",
       "100      8                         6.838836  7.022563  7.217950  7.328828   \n",
       "         9                         6.953802  7.118341  7.310323  7.427457   \n",
       "         10                        6.999422  7.149232  7.335751  7.459335   \n",
       "         11                        6.974733  7.110964  7.291888  7.426106   \n",
       "         12                        6.880414  7.009122  7.184757  7.326948   \n",
       "150      8                         7.123414  7.169282  7.408290  7.755142   \n",
       "         9                         7.187129  7.239402  7.460552  7.796579   \n",
       "         10                        7.179574  7.232139  7.444445  7.752020   \n",
       "         11                        7.103396  7.157833  7.363865  7.642162   \n",
       "         12                        6.970637  7.027834  7.230131  7.477122   \n",
       "200      8                         7.218333  7.237693  7.387787  7.728607   \n",
       "         9                         7.260933  7.277232  7.432688  7.761740   \n",
       "         10                        7.229142  7.248402  7.409523  7.718347   \n",
       "         11                        7.133463  7.160634  7.326077  7.612654   \n",
       "         12                        6.987169  7.025419  7.193226  7.457448   \n",
       "250      8                         6.424226  6.619806  6.818473  6.983822   \n",
       "         9                         7.124571  7.237100  7.455205  7.681941   \n",
       "         10                        7.143186  7.235256  7.453898  7.684728   \n",
       "         11                        7.072379  7.152048  7.368654  7.594988   \n",
       "         12                        6.939363  7.013814  7.226049  7.442449   \n",
       "300      8                         5.327065  5.368901  6.923758  7.153726   \n",
       "         9                         7.153082  7.215864  7.510615  7.747156   \n",
       "         10                        7.157303  7.218220  7.492650  7.733518   \n",
       "         11                        7.076038  7.138604  7.394120  7.630078   \n",
       "         12                        6.936952  7.004194  7.246642  7.467038   \n",
       "\n",
       "                                   \n",
       "Split                           5  \n",
       "Features Reg. Parameter            \n",
       "100      8               7.178802  \n",
       "         9               7.254374  \n",
       "         10              7.258263  \n",
       "         11              7.193998  \n",
       "         12              7.069606  \n",
       "150      8               7.127810  \n",
       "         9               7.205598  \n",
       "         10              7.211728  \n",
       "         11              7.146729  \n",
       "         12              7.022718  \n",
       "200      8               7.301649  \n",
       "         9               7.341838  \n",
       "         10              7.306481  \n",
       "         11              7.208397  \n",
       "         12              7.061680  \n",
       "250      8               6.735633  \n",
       "         9               7.355554  \n",
       "         10              7.347432  \n",
       "         11              7.251089  \n",
       "         12              7.095814  \n",
       "300      8               6.807255  \n",
       "         9               7.370147  \n",
       "         10              7.355667  \n",
       "         11              7.253728  \n",
       "         12              7.094273  "
      ]
     },
     "execution_count": 4,
     "metadata": {},
     "output_type": "execute_result"
    }
   ],
   "source": [
    "Results = []\n",
    "for split in [1,2,3,4,5]:\n",
    "    same_shape = False\n",
    "\n",
    "    while same_shape == False:\n",
    "        tr, ntr = train_test_split(r, train_size = 0.6)#, random_state = 0)\n",
    "        test, cv = train_test_split(ntr, train_size = 0.5)#, random_state = 0)\n",
    "        trm = tr.pivot('movieId','userId','rating')\n",
    "        testm = test.pivot('movieId','userId','rating')\n",
    "        cvm = cv.pivot('movieId','userId','rating')\n",
    "        if (trm.shape == testm.shape) & (trm.shape==cvm.shape):\n",
    "            same_shape = True\n",
    "    \n",
    "    ind = trm.index\n",
    "    col = trm.columns\n",
    "    \n",
    "    mu = trm.mean(axis = 1)\n",
    "    trm2 = trm.subtract(mu,axis=0)\n",
    "    R = np.asarray(~np.isnan(trm2)) #Matrix containing boolean for rated/not rated for each movie user pairing\n",
    "    trm2 = np.asarray(trm2.fillna(0))\n",
    "    \n",
    "    nmovies, nusers = trm2.shape\n",
    "    for nfeatures in [100,150,200,250,300]:\n",
    "        X = np.random.randn(nmovies,nfeatures) #movie features\n",
    "        Theta = np.random.randn(nusers,nfeatures) #user features\n",
    "\n",
    "        for reg in [8,9,10,11,12]:\n",
    "            alpha = .003 #learning rate\n",
    "\n",
    "            delta = 1\n",
    "            iter = 0\n",
    "            J = []\n",
    "            J_new = np.sum(np.sum(np.multiply(((np.dot(X,np.transpose(Theta))-trm2)**2),R)))/2 + reg/2*(np.sum(np.sum(Theta**2))+np.sum(np.sum(X**2)))\n",
    "            J.append({'Iteration': iter, 'Cost': J_new})\n",
    "            while delta >= 0.001:\n",
    "                J_old = J_new\n",
    "                iter = iter+1\n",
    "                X_grad = np.dot(np.multiply(np.dot(X,np.transpose(Theta))-trm2,R),Theta) + reg*X\n",
    "                Theta_grad = np.dot(np.transpose(np.multiply(np.dot(X,np.transpose(Theta))-trm2,R)),X)+reg*Theta\n",
    "                X = X-alpha*X_grad\n",
    "                Theta = Theta-alpha*Theta_grad\n",
    "                J_new = np.sum(np.sum(np.multiply(((np.dot(X,np.transpose(Theta))-trm2)**2),R)))/2 + reg/2*(np.sum(np.sum(Theta**2))+np.sum(np.sum(X**2)))\n",
    "                J.append({'Iteration': iter, 'Cost': J_new})\n",
    "                delta = (J_old-J_new)/J_old\n",
    "                if delta <0:\n",
    "                    X = X+alpha*X_grad\n",
    "                    Theta = Theta+alpha*Theta_grad\n",
    "                    J_new = J_old\n",
    "                    alpha = alpha/3\n",
    "                    delta=1\n",
    "                \n",
    "            Predictions = pd.DataFrame(data = np.dot(X,np.transpose(Theta)),index = ind, columns = col)\n",
    "            Predictions = Predictions.add(mu,axis = 0)\n",
    "            n_obs= np.sum(np.sum(~np.isnan(cvm)))\n",
    "            \n",
    "            RMSE_avg = math.sqrt(np.sum(np.sum((cvm.subtract(mu,axis = 0))**2))/n_obs)\n",
    "            RMSE_alg = math.sqrt(np.sum(np.sum((Predictions - cvm)**2))/n_obs)\n",
    "            red = (RMSE_avg - RMSE_alg)/RMSE_avg*100\n",
    "            \n",
    "            Results.append({'Split': split, 'Features': nfeatures, 'Reg. Parameter': reg, '% Reduction in RMSE': red})\n",
    "\n",
    "Results = pd.DataFrame(Results)\n",
    "Results = Results.set_index(['Split','Features','Reg. Parameter'])\n",
    "Results = Results.unstack('Split')\n",
    "Results"
   ]
  },
  {
   "cell_type": "code",
   "execution_count": 5,
   "metadata": {
    "collapsed": false
   },
   "outputs": [
    {
     "data": {
      "text/plain": [
       "Features  Reg. Parameter\n",
       "100       8                 7.117396\n",
       "          9                 7.212859\n",
       "          10                7.240400\n",
       "          11                7.199538\n",
       "          12                7.094170\n",
       "150       8                 7.316787\n",
       "          9                 7.377852\n",
       "          10                7.363981\n",
       "          11                7.282797\n",
       "          12                7.145689\n",
       "200       8                 7.374814\n",
       "          9                 7.414886\n",
       "          10                7.382379\n",
       "          11                7.288245\n",
       "          12                7.144988\n",
       "250       8                 6.716392\n",
       "          9                 7.370874\n",
       "          10                7.372900\n",
       "          11                7.287831\n",
       "          12                7.143498\n",
       "300       8                 6.316141\n",
       "          9                 7.399373\n",
       "          10                7.391471\n",
       "          11                7.298514\n",
       "          12                7.149820\n",
       "dtype: float64"
      ]
     },
     "execution_count": 5,
     "metadata": {},
     "output_type": "execute_result"
    }
   ],
   "source": [
    "avg_red = np.mean(Results,axis=1)\n",
    "avg_red"
   ]
  },
  {
   "cell_type": "code",
   "execution_count": 6,
   "metadata": {
    "collapsed": false
   },
   "outputs": [],
   "source": [
    "nfeatures, reg = np.argmax(avg_red)"
   ]
  },
  {
   "cell_type": "code",
   "execution_count": 7,
   "metadata": {
    "collapsed": false
   },
   "outputs": [
    {
     "data": {
      "text/plain": [
       "200"
      ]
     },
     "execution_count": 7,
     "metadata": {},
     "output_type": "execute_result"
    }
   ],
   "source": [
    "nfeatures"
   ]
  },
  {
   "cell_type": "code",
   "execution_count": 8,
   "metadata": {
    "collapsed": false
   },
   "outputs": [
    {
     "data": {
      "text/plain": [
       "9"
      ]
     },
     "execution_count": 8,
     "metadata": {},
     "output_type": "execute_result"
    }
   ],
   "source": [
    "reg"
   ]
  },
  {
   "cell_type": "code",
   "execution_count": 9,
   "metadata": {
    "collapsed": false
   },
   "outputs": [
    {
     "data": {
      "text/plain": [
       "[7.45469812332521,\n",
       " 7.488790714612242,\n",
       " 7.433181142410686,\n",
       " 7.183252145446538,\n",
       " 7.329694424397634]"
      ]
     },
     "execution_count": 9,
     "metadata": {},
     "output_type": "execute_result"
    }
   ],
   "source": [
    "Results = []\n",
    "for num in range(0,5):\n",
    "    same_shape = False\n",
    "\n",
    "    while same_shape == False:\n",
    "        tr, ntr = train_test_split(r, train_size = 0.6)#, random_state = 0)\n",
    "        test, cv = train_test_split(ntr, train_size = 0.5)#, random_state = 0)\n",
    "        trm = tr.pivot('movieId','userId','rating')\n",
    "        testm = test.pivot('movieId','userId','rating')\n",
    "        cvm = cv.pivot('movieId','userId','rating')\n",
    "        if (trm.shape == testm.shape) & (trm.shape==cvm.shape):\n",
    "            same_shape = True\n",
    "    \n",
    "    ind = trm.index\n",
    "    col = trm.columns\n",
    "    \n",
    "    mu = trm.mean(axis = 1)\n",
    "    trm2 = trm.subtract(mu,axis=0)\n",
    "    R = np.asarray(~np.isnan(trm2)) #Matrix containing boolean for rated/not rated for each movie user pairing\n",
    "    trm2 = np.asarray(trm2.fillna(0))\n",
    "    \n",
    "    nmovies, nusers = trm2.shape\n",
    "    \n",
    "    X = np.random.randn(nmovies,nfeatures) #movie features\n",
    "    Theta = np.random.randn(nusers,nfeatures) #user features\n",
    "\n",
    "    alpha = .003 #learning rate\n",
    "\n",
    "    delta = 1\n",
    "    iter = 0\n",
    "    J = []\n",
    "    J_new = np.sum(np.sum(np.multiply(((np.dot(X,np.transpose(Theta))-trm2)**2),R)))/2 + reg/2*(np.sum(np.sum(Theta**2))+np.sum(np.sum(X**2)))\n",
    "    J.append({'Iteration': iter, 'Cost': J_new})\n",
    "    while delta >= 0.001:\n",
    "        J_old = J_new\n",
    "        iter = iter+1\n",
    "        X_grad = np.dot(np.multiply(np.dot(X,np.transpose(Theta))-trm2,R),Theta) + reg*X\n",
    "        Theta_grad = np.dot(np.transpose(np.multiply(np.dot(X,np.transpose(Theta))-trm2,R)),X)+reg*Theta\n",
    "        X = X-alpha*X_grad\n",
    "        Theta = Theta-alpha*Theta_grad\n",
    "        J_new = np.sum(np.sum(np.multiply(((np.dot(X,np.transpose(Theta))-trm2)**2),R)))/2 + reg/2*(np.sum(np.sum(Theta**2))+np.sum(np.sum(X**2)))\n",
    "        J.append({'Iteration': iter, 'Cost': J_new})\n",
    "        delta = (J_old-J_new)/J_old\n",
    "        if delta <0:\n",
    "            X = X+alpha*X_grad\n",
    "            Theta = Theta+alpha*Theta_grad\n",
    "            J_new = J_old\n",
    "            alpha = alpha/3\n",
    "            delta=1\n",
    "                \n",
    "    Predictions = pd.DataFrame(data = np.dot(X,np.transpose(Theta)),index = ind, columns = col)\n",
    "    Predictions = Predictions.add(mu,axis = 0)\n",
    "    n_obs= np.sum(np.sum(~np.isnan(testm)))\n",
    "            \n",
    "    RMSE_avg = math.sqrt(np.sum(np.sum((testm.subtract(mu,axis = 0))**2))/n_obs)\n",
    "    RMSE_alg = math.sqrt(np.sum(np.sum((Predictions - testm)**2))/n_obs)\n",
    "    red = (RMSE_avg - RMSE_alg)/RMSE_avg*100\n",
    "            \n",
    "    Results.append(red)\n",
    "\n",
    "Results"
   ]
  },
  {
   "cell_type": "code",
   "execution_count": 10,
   "metadata": {
    "collapsed": false
   },
   "outputs": [
    {
     "data": {
      "text/plain": [
       "7.3779233100384616"
      ]
     },
     "execution_count": 10,
     "metadata": {},
     "output_type": "execute_result"
    }
   ],
   "source": [
    "avg_red = np.mean(Results)\n",
    "avg_red"
   ]
  },
  {
   "cell_type": "code",
   "execution_count": null,
   "metadata": {
    "collapsed": false
   },
   "outputs": [],
   "source": []
  },
  {
   "cell_type": "code",
   "execution_count": null,
   "metadata": {
    "collapsed": false
   },
   "outputs": [],
   "source": []
  },
  {
   "cell_type": "code",
   "execution_count": null,
   "metadata": {
    "collapsed": false
   },
   "outputs": [],
   "source": []
  },
  {
   "cell_type": "code",
   "execution_count": null,
   "metadata": {
    "collapsed": false
   },
   "outputs": [],
   "source": []
  },
  {
   "cell_type": "code",
   "execution_count": null,
   "metadata": {
    "collapsed": false
   },
   "outputs": [],
   "source": []
  },
  {
   "cell_type": "code",
   "execution_count": null,
   "metadata": {
    "collapsed": true
   },
   "outputs": [],
   "source": []
  },
  {
   "cell_type": "code",
   "execution_count": null,
   "metadata": {
    "collapsed": false,
    "scrolled": true
   },
   "outputs": [],
   "source": []
  },
  {
   "cell_type": "code",
   "execution_count": null,
   "metadata": {
    "collapsed": false
   },
   "outputs": [],
   "source": []
  },
  {
   "cell_type": "code",
   "execution_count": null,
   "metadata": {
    "collapsed": false
   },
   "outputs": [],
   "source": []
  },
  {
   "cell_type": "code",
   "execution_count": null,
   "metadata": {
    "collapsed": false
   },
   "outputs": [],
   "source": []
  },
  {
   "cell_type": "code",
   "execution_count": null,
   "metadata": {
    "collapsed": false
   },
   "outputs": [],
   "source": []
  },
  {
   "cell_type": "code",
   "execution_count": null,
   "metadata": {
    "collapsed": false
   },
   "outputs": [],
   "source": []
  },
  {
   "cell_type": "code",
   "execution_count": null,
   "metadata": {
    "collapsed": false
   },
   "outputs": [],
   "source": []
  },
  {
   "cell_type": "code",
   "execution_count": null,
   "metadata": {
    "collapsed": false
   },
   "outputs": [],
   "source": []
  },
  {
   "cell_type": "code",
   "execution_count": null,
   "metadata": {
    "collapsed": false
   },
   "outputs": [],
   "source": []
  },
  {
   "cell_type": "code",
   "execution_count": null,
   "metadata": {
    "collapsed": false
   },
   "outputs": [],
   "source": []
  },
  {
   "cell_type": "code",
   "execution_count": null,
   "metadata": {
    "collapsed": false
   },
   "outputs": [],
   "source": []
  },
  {
   "cell_type": "code",
   "execution_count": null,
   "metadata": {
    "collapsed": false
   },
   "outputs": [],
   "source": []
  },
  {
   "cell_type": "code",
   "execution_count": null,
   "metadata": {
    "collapsed": true
   },
   "outputs": [],
   "source": []
  }
 ],
 "metadata": {
  "kernelspec": {
   "display_name": "Python 3",
   "language": "python",
   "name": "python3"
  },
  "language_info": {
   "codemirror_mode": {
    "name": "ipython",
    "version": 3
   },
   "file_extension": ".py",
   "mimetype": "text/x-python",
   "name": "python",
   "nbconvert_exporter": "python",
   "pygments_lexer": "ipython3",
   "version": "3.5.1"
  }
 },
 "nbformat": 4,
 "nbformat_minor": 0
}
